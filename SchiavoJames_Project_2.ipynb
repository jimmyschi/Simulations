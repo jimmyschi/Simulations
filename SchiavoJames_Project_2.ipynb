{
 "cells": [
  {
   "cell_type": "code",
   "execution_count": 2,
   "id": "3af42c71",
   "metadata": {},
   "outputs": [
    {
     "data": {
      "text/html": [
       "<div id=\"glowscript\" class=\"glowscript\"></div>"
      ],
      "text/plain": [
       "<IPython.core.display.HTML object>"
      ]
     },
     "metadata": {},
     "output_type": "display_data"
    },
    {
     "data": {
      "application/javascript": [
       "if (typeof Jupyter !== \"undefined\") { window.__context = { glowscript_container: $(\"#glowscript\").removeAttr(\"id\")};}else{ element.textContent = ' ';}"
      ],
      "text/plain": [
       "<IPython.core.display.Javascript object>"
      ]
     },
     "metadata": {},
     "output_type": "display_data"
    }
   ],
   "source": [
    "from vpython import *\n",
    "import math\n",
    "from matplotlib import pyplot as plt"
   ]
  },
  {
   "cell_type": "markdown",
   "id": "226ea8a1",
   "metadata": {},
   "source": [
    "## Newton's Cannonball"
   ]
  },
  {
   "cell_type": "code",
   "execution_count": 3,
   "id": "f0e65655",
   "metadata": {},
   "outputs": [
    {
     "data": {
      "text/html": [
       "<div id=\"glowscript\" class=\"glowscript\"></div>"
      ],
      "text/plain": [
       "<IPython.core.display.HTML object>"
      ]
     },
     "metadata": {},
     "output_type": "display_data"
    },
    {
     "data": {
      "application/javascript": [
       "if (typeof Jupyter !== \"undefined\") { window.__context = { glowscript_container: $(\"#glowscript\").removeAttr(\"id\")};}else{ element.textContent = ' ';}"
      ],
      "text/plain": [
       "<IPython.core.display.Javascript object>"
      ]
     },
     "metadata": {},
     "output_type": "display_data"
    },
    {
     "name": "stdout",
     "output_type": "stream",
     "text": [
      "v0: <7907.13, 0, 0>\n"
     ]
    }
   ],
   "source": [
    "scene=canvas()\n",
    "Me = 5.972e24 #kg\n",
    "Re=6.371e6 #m\n",
    "G=6.67e-11\n",
    "V_esc = math.sqrt(G*Me/Re)\n",
    "earth=sphere(pos=vector(0,0,0), radius=Re, texture=textures.earth)\n",
    "ball=sphere(pos=Re*vector(0,1.25,0),radius=Re/20, color=color.red, make_trail=True)\n",
    "\n",
    "ball.velocity=V_esc*norm(cross(ball.pos,vector(0,0,1)))\n",
    "print(\"v0: \" + str(ball.velocity))\n",
    "m=1 #ball's mass\n",
    "#momentum: p = m*v\n",
    "ball.p=m*ball.velocity\n",
    "t=0\n",
    "dt=1\n",
    "while t < 100000:\n",
    "    rate(1000)\n",
    "    r=ball.pos-earth.pos\n",
    "    F=-G*Me*m*r/mag(r)**3\n",
    "    ball.p=ball.p+F*dt\n",
    "    ball.pos=ball.pos+(ball.p*dt)/m \n",
    "    t=t+dt"
   ]
  },
  {
   "cell_type": "markdown",
   "id": "f11d2036",
   "metadata": {},
   "source": [
    "# References"
   ]
  },
  {
   "cell_type": "markdown",
   "id": "94122706",
   "metadata": {},
   "source": [
    "https://en.wikipedia.org/wiki/Newton%27s_cannonball"
   ]
  },
  {
   "cell_type": "markdown",
   "id": "3b94cc45",
   "metadata": {},
   "source": [
    "https://byjus.com/jee/gravitation/"
   ]
  },
  {
   "cell_type": "markdown",
   "id": "4daafc16",
   "metadata": {},
   "source": [
    "## Solar System"
   ]
  },
  {
   "cell_type": "code",
   "execution_count": 4,
   "id": "5f562795",
   "metadata": {
    "scrolled": true
   },
   "outputs": [
    {
     "data": {
      "text/html": [
       "<div id=\"glowscript\" class=\"glowscript\"></div>"
      ],
      "text/plain": [
       "<IPython.core.display.HTML object>"
      ]
     },
     "metadata": {},
     "output_type": "display_data"
    },
    {
     "data": {
      "application/javascript": [
       "if (typeof Jupyter !== \"undefined\") { window.__context = { glowscript_container: $(\"#glowscript\").removeAttr(\"id\")};}else{ element.textContent = ' ';}"
      ],
      "text/plain": [
       "<IPython.core.display.Javascript object>"
      ]
     },
     "metadata": {},
     "output_type": "display_data"
    },
    {
     "data": {
      "application/javascript": [
       "if (typeof Jupyter !== \"undefined\") {require.undef(\"nbextensions/vpython_libraries/glow.min\");}else{element.textContent = ' ';}"
      ],
      "text/plain": [
       "<IPython.core.display.Javascript object>"
      ]
     },
     "metadata": {},
     "output_type": "display_data"
    },
    {
     "data": {
      "application/javascript": [
       "if (typeof Jupyter !== \"undefined\") {require.undef(\"nbextensions/vpython_libraries/glowcomm\");}else{element.textContent = ' ';}"
      ],
      "text/plain": [
       "<IPython.core.display.Javascript object>"
      ]
     },
     "metadata": {},
     "output_type": "display_data"
    },
    {
     "data": {
      "application/javascript": [
       "if (typeof Jupyter !== \"undefined\") {require.undef(\"nbextensions/vpython_libraries/jquery-ui.custom.min\");}else{element.textContent = ' ';}"
      ],
      "text/plain": [
       "<IPython.core.display.Javascript object>"
      ]
     },
     "metadata": {},
     "output_type": "display_data"
    },
    {
     "data": {
      "application/javascript": [
       "if (typeof Jupyter !== \"undefined\") {require([\"nbextensions/vpython_libraries/glow.min\"], function(){console.log(\"GLOW LOADED\");});}else{element.textContent = ' ';}"
      ],
      "text/plain": [
       "<IPython.core.display.Javascript object>"
      ]
     },
     "metadata": {},
     "output_type": "display_data"
    },
    {
     "data": {
      "application/javascript": [
       "if (typeof Jupyter !== \"undefined\") {require([\"nbextensions/vpython_libraries/glowcomm\"], function(){console.log(\"GLOWCOMM LOADED\");});}else{element.textContent = ' ';}"
      ],
      "text/plain": [
       "<IPython.core.display.Javascript object>"
      ]
     },
     "metadata": {},
     "output_type": "display_data"
    },
    {
     "data": {
      "application/javascript": [
       "if (typeof Jupyter !== \"undefined\") {require([\"nbextensions/vpython_libraries/jquery-ui.custom.min\"], function(){console.log(\"JQUERY LOADED\");});}else{element.textContent = ' ';}"
      ],
      "text/plain": [
       "<IPython.core.display.Javascript object>"
      ]
     },
     "metadata": {},
     "output_type": "display_data"
    },
    {
     "name": "stdout",
     "output_type": "stream",
     "text": [
      "FORCE: <4.18643e+20, -1.40999e+21, -3.98198e+19>\n",
      "FORCE: <4.18643e+20, -1.40999e+21, -3.98198e+19>\n",
      "FORCE: <4.18645e+20, -1.40999e+21, -3.982e+19>\n",
      "FORCE: <4.18641e+20, -1.41e+21, -3.98206e+19>\n"
     ]
    },
    {
     "ename": "KeyboardInterrupt",
     "evalue": "",
     "output_type": "error",
     "traceback": [
      "\u001b[0;31m---------------------------------------------------------------------------\u001b[0m",
      "\u001b[0;31mKeyboardInterrupt\u001b[0m                         Traceback (most recent call last)",
      "Cell \u001b[0;32mIn[4], line 33\u001b[0m\n\u001b[1;32m     31\u001b[0m \u001b[38;5;66;03m#t < Earth year\u001b[39;00m\n\u001b[1;32m     32\u001b[0m \u001b[38;5;28;01mwhile\u001b[39;00m t \u001b[38;5;241m<\u001b[39m \u001b[38;5;241m200000\u001b[39m\u001b[38;5;241m*\u001b[39mdeltat:\n\u001b[0;32m---> 33\u001b[0m     \u001b[43mrate\u001b[49m\u001b[43m(\u001b[49m\u001b[38;5;241;43m5000\u001b[39;49m\u001b[43m)\u001b[49m\n\u001b[1;32m     34\u001b[0m     \u001b[38;5;66;03m#calculate next position\u001b[39;00m\n\u001b[1;32m     35\u001b[0m     \u001b[38;5;28;01mfor\u001b[39;00m key, value \u001b[38;5;129;01min\u001b[39;00m planets\u001b[38;5;241m.\u001b[39mitems():\n",
      "File \u001b[0;32m/opt/anaconda3/envs/sim/lib/python3.10/site-packages/vpython/rate_control.py:266\u001b[0m, in \u001b[0;36m_RateKeeper2.__call__\u001b[0;34m(self, N)\u001b[0m\n\u001b[1;32m    264\u001b[0m \u001b[38;5;28mself\u001b[39m\u001b[38;5;241m.\u001b[39mrval \u001b[38;5;241m=\u001b[39m N\n\u001b[1;32m    265\u001b[0m \u001b[38;5;28;01mif\u001b[39;00m \u001b[38;5;28mself\u001b[39m\u001b[38;5;241m.\u001b[39mrval \u001b[38;5;241m<\u001b[39m \u001b[38;5;241m1\u001b[39m: \u001b[38;5;28;01mraise\u001b[39;00m \u001b[38;5;167;01mValueError\u001b[39;00m(\u001b[38;5;124m\"\u001b[39m\u001b[38;5;124mrate value must be greater than or equal to 1\u001b[39m\u001b[38;5;124m\"\u001b[39m)\n\u001b[0;32m--> 266\u001b[0m \u001b[38;5;28;43msuper\u001b[39;49m\u001b[43m(\u001b[49m\u001b[43m_RateKeeper2\u001b[49m\u001b[43m,\u001b[49m\u001b[43m \u001b[49m\u001b[38;5;28;43mself\u001b[39;49m\u001b[43m)\u001b[49m\u001b[38;5;241;43m.\u001b[39;49m\u001b[38;5;21;43m__call__\u001b[39;49m\u001b[43m(\u001b[49m\u001b[38;5;28;43mself\u001b[39;49m\u001b[38;5;241;43m.\u001b[39;49m\u001b[43mrval\u001b[49m\u001b[43m)\u001b[49m\n",
      "File \u001b[0;32m/opt/anaconda3/envs/sim/lib/python3.10/site-packages/vpython/rate_control.py:220\u001b[0m, in \u001b[0;36mRateKeeper.__call__\u001b[0;34m(self, maxRate)\u001b[0m\n\u001b[1;32m    217\u001b[0m \u001b[38;5;66;03m# Determine how much time is left before the next predicted call to rate:\u001b[39;00m\n\u001b[1;32m    218\u001b[0m dt \u001b[38;5;241m=\u001b[39m \u001b[38;5;28mself\u001b[39m\u001b[38;5;241m.\u001b[39mlastSleep \u001b[38;5;241m+\u001b[39m \u001b[38;5;28mself\u001b[39m\u001b[38;5;241m.\u001b[39mcalls\u001b[38;5;241m*\u001b[39m(\u001b[38;5;28mself\u001b[39m\u001b[38;5;241m.\u001b[39muserTime \u001b[38;5;241m+\u001b[39m \u001b[38;5;28mself\u001b[39m\u001b[38;5;241m.\u001b[39mcallTime \u001b[38;5;241m+\u001b[39m \u001b[38;5;28mself\u001b[39m\u001b[38;5;241m.\u001b[39mdelay) \u001b[38;5;241m+\u001b[39m \\\n\u001b[1;32m    219\u001b[0m      renders\u001b[38;5;241m*\u001b[39m\u001b[38;5;28mself\u001b[39m\u001b[38;5;241m.\u001b[39mrenderTime \u001b[38;5;241m+\u001b[39m sleeps\u001b[38;5;241m*\u001b[39m\u001b[38;5;28mself\u001b[39m\u001b[38;5;241m.\u001b[39minteractionPeriod \u001b[38;5;241m-\u001b[39m _clock()\n\u001b[0;32m--> 220\u001b[0m \u001b[43m_sleep\u001b[49m\u001b[43m(\u001b[49m\u001b[43mdt\u001b[49m\u001b[43m)\u001b[49m\n\u001b[1;32m    221\u001b[0m \u001b[38;5;28mself\u001b[39m\u001b[38;5;241m.\u001b[39mlastSleep \u001b[38;5;241m=\u001b[39m _clock()\n\u001b[1;32m    222\u001b[0m \u001b[38;5;28mself\u001b[39m\u001b[38;5;241m.\u001b[39mcalls \u001b[38;5;241m=\u001b[39m \u001b[38;5;241m0\u001b[39m\n",
      "File \u001b[0;32m/opt/anaconda3/envs/sim/lib/python3.10/site-packages/vpython/rate_control.py:68\u001b[0m, in \u001b[0;36m_sleep\u001b[0;34m(dt)\u001b[0m\n\u001b[1;32m     66\u001b[0m     \u001b[38;5;28;01mreturn\u001b[39;00m\n\u001b[1;32m     67\u001b[0m tend \u001b[38;5;241m=\u001b[39m _clock()\u001b[38;5;241m+\u001b[39mdt\n\u001b[0;32m---> 68\u001b[0m \u001b[38;5;28;01mwhile\u001b[39;00m _clock() \u001b[38;5;241m<\u001b[39m tend:\n\u001b[1;32m     69\u001b[0m     \u001b[38;5;28;01mpass\u001b[39;00m\n",
      "\u001b[0;31mKeyboardInterrupt\u001b[0m: "
     ]
    }
   ],
   "source": [
    "scene=canvas()\n",
    "Rs=7e8\n",
    "Rmerc=2.4397e6\n",
    "Rv=6.0518e6\n",
    "Re=6.371e6 #m\n",
    "Rmars=3.3895e6\n",
    "G=6.67e-11\n",
    "AU = 1.496e11 #m\n",
    "Sun=sphere(pos=vector(0,0,0), radius=Rs*10, color=color.yellow)\n",
    "Sun.velocity = vector(0,0,0)\n",
    "Mercury=sphere(pos=vector(-3.604222541144669E+10, -5.863938555046441E+10, -1.486047609231353E+09), radius=Rmerc*1000, color=color.blue,make_trail=True)\n",
    "Mercury.velocity = vector(3.166854896850194E+04, -2.318727179308121E+04, -4.799657606676290E+03)\n",
    "Venus=sphere(pos=vector(1.000894922217933E+11,  4.140545202500607E+10, -5.206941899156710E+09), radius=Rv*1000, color=color.red,make_trail=True)\n",
    "Venus.velocity = vector(-1.350308021983919E+04,  3.220834402885530E+04,  1.221351385174065E+03)\n",
    "Earth=sphere(pos=vector(-1.124427118433134E+11,  9.557427075885166E+10, -4.638811550319195E+06), radius=Re*1000, texture=textures.earth,make_trail=True)\n",
    "Earth.velocity = vector(-1.977494961240863E+04, -2.279921980185209E+04,  2.094039412156690E+00)\n",
    "Mars=sphere(pos=vector(-6.843194823696226E+10,  2.304783883361065E+11,  6.509002879749551E+09), radius=Rmars*1000, color=color.orange,make_trail=True)\n",
    "Mars.velocity = vector(-2.206979211961535E+04,-5.607551731643481E+03,4.242842739018187E+02)\n",
    "#planet : [mass,radius,initial_position]\n",
    "planets = {\n",
    "    \"Sun\" : {\"mass\" : 1988500e24,\"radius\" : 7e8,\"initial position\" : vector(0,0,0),\"object\" : Sun, \"next velocity\" : vector(0,0,0),\"next position\" : vector(0,0,0)},\n",
    "    \"Mercury\" :{\"mass\" : 3.302e23, \"radius\" : 2.4397e6,\"initial position\" : vector(-3.604222541144669E+10, -5.863938555046441E+10, -1.486047609231353E+09),\"object\" : Mercury, \"next velocity\" : vector(3.166854896850194E+04, -2.318727179308121E+04, -4.799657606676290E+03), \"next position\" : vector(-3.604222541144669E+10, -5.863938555046441E+10, -1.486047609231353E+09)},\n",
    "    \"Venus\" : {\"mass\" : 48.685e23, \"radius\" : 6.0518e6,\"initial position\" : vector(1.000894922217933E+11,  4.140545202500607E+10, -5.206941899156710E+09),\"object\" : Venus, \"next velocity\" : vector(-1.350308021983919E+04,  3.220834402885530E+04,  1.221351385174065E+03), \"next position\" : vector(1.000894922217933E+11,  4.140545202500607E+10, -5.206941899156710E+09)},\n",
    "    \"Earth\" : {\"mass\" : 5.97219e24, \"radius\" : 6.371e6,\"initial position\" : vector(-1.124427118433134E+11,  9.557427075885166E+10, -4.638811550319195E+06),\"object\" : Earth, \"next velocity\" : vector(-1.977494961240863E+04, -2.279921980185209E+04,  2.094039412156690E+00), \"next position\" : vector(-1.124427118433134E+11,  9.557427075885166E+10, -4.638811550319195E+06)},\n",
    "    \"Mars\" : {\"mass\" : 6.4171e23, \"radius\" : 3.3895e6,\"initial position\" : vector(-6.843194823696226E+10,  2.304783883361065E+11,  6.509002879749551E+09),\"object\" : Mars, \"next velocity\" : vector(-2.206979211961535E+04,-5.607551731643481E+03,4.242842739018187E+02), \"next position\" : vector(-6.843194823696226E+10,  2.304783883361065E+11,  6.509002879749551E+09)}\n",
    "}\n",
    "t = 0\n",
    "t_orbit = 0\n",
    "deltat = 600\n",
    "years = []\n",
    "#t < Earth year\n",
    "while t < 200000*deltat:\n",
    "    rate(5000)\n",
    "    #calculate next position\n",
    "    for key, value in planets.items():\n",
    "        if key == \"Sun\":\n",
    "            continue\n",
    "        object1 = value[\"object\"]\n",
    "        m1 = value[\"mass\"]\n",
    "        next_position1 = value[\"next position\"]\n",
    "        next_velocity1 = value[\"next velocity\"]\n",
    "        F = vector(0,0,0)\n",
    "        for key2, value2 in planets.items():\n",
    "            object2 = value2[\"object\"]\n",
    "            m2 = value2[\"mass\"]\n",
    "            next_position2 =value2[\"next position\"]\n",
    "            if key != key2:\n",
    "                r=next_position2-next_position1\n",
    "                breakpoint()\n",
    "                F=F + G*m1*m2*r/(mag(r)**3)\n",
    "                if key == \"Mars\":\n",
    "                    print(\"FORCE: \" + str(F))\n",
    "        a  = F/m1\n",
    "        velocity = next_velocity1 + a*deltat\n",
    "        value[\"next velocity\"] = velocity\n",
    "#         print(\"Next Velocity: \" + str(velocity))\n",
    "        pos = next_position1 + velocity*deltat\n",
    "        value[\"next position\"] = pos\n",
    "#         print(\"Next Position: \" + str(pos))\n",
    "    for key, value in planets.items():\n",
    "        obj = value[\"object\"]\n",
    "        next_velo = value[\"next velocity\"]\n",
    "        next_pos = value[\"next position\"]\n",
    "        initial_pos = value[\"initial position\"]\n",
    "        obj.velocity = next_velo\n",
    "        obj.pos = next_pos\n",
    "        #thresholding orbit\n",
    "        if key == \"Earth\" and t_orbit > 50000*deltat:\n",
    "#             print(\"obj.pos: \" + str(obj.pos))\n",
    "#             print(\"initial_pos: \" + str(initial_pos))\n",
    "#             print(mag(obj.pos - initial_pos))\n",
    "            if mag(obj.pos - initial_pos) < 1e9:\n",
    "                print(\"YEAR ELAPSED!!!!\")\n",
    "                year = t_orbit/3.154e+7\n",
    "                years.append(year)\n",
    "                t_orbit = 0\n",
    "    t = t + deltat\n",
    "    t_orbit = t_orbit + deltat\n",
    "print(\"years: \" + str(len(years)))\n",
    "print(years)\n",
    "plt.plot(years)"
   ]
  },
  {
   "cell_type": "markdown",
   "id": "ebf397f7",
   "metadata": {},
   "source": [
    "# References"
   ]
  },
  {
   "cell_type": "markdown",
   "id": "4390cc82",
   "metadata": {},
   "source": [
    "https://byjus.com/jee/gravitation/"
   ]
  },
  {
   "cell_type": "markdown",
   "id": "d877871f",
   "metadata": {},
   "source": [
    "https://ssd.jpl.nasa.gov/horizons/app.html#/"
   ]
  },
  {
   "cell_type": "markdown",
   "id": "f81cc1ad",
   "metadata": {},
   "source": [
    "# 1C"
   ]
  },
  {
   "cell_type": "markdown",
   "id": "d1e957d3",
   "metadata": {},
   "source": [
    "I decided on initial parameters using the horizons website in vector form with the sun being the center of the solar system, therefore, it's position and velocity vectors were (0,0,0). The horizons website gave me initial position and velocity vectors of each planet as well as the radius and mass of the planet. All calculations were done in meters for simplicity. I decided simulation time parameters through trial and error and a basic understanding of our own solar system and the amount of time it would take these planets to orbit the sun multiple times to do some average calculations.\n"
   ]
  },
  {
   "cell_type": "markdown",
   "id": "10301f13",
   "metadata": {},
   "source": [
    "# 1D"
   ]
  },
  {
   "cell_type": "markdown",
   "id": "90b1557a",
   "metadata": {},
   "source": [
    "I used a nested dictionary to represent the planets name as their key and their value was another dictionary which contains information on their radius, mass, initial position, and next state variables. I did this so I can easily store information related to the same planet and loop through all objects in the solar system easily."
   ]
  },
  {
   "cell_type": "markdown",
   "id": "7057473a",
   "metadata": {},
   "source": [
    "# 1E"
   ]
  },
  {
   "cell_type": "markdown",
   "id": "6360288c",
   "metadata": {},
   "source": [
    "I verified the accuracy of my simulation by calculating the orbital period for Earth and made sure my time elapsed would be 1 year. I had my simulation run for a total of 3 orbits around the Sun for Earth and graphed the time in years for each of the orbits. My calculation for Earth to orbit was very close to an actual Earth year with values ranging from .99-1.01 when converting time elapsed to Earth years. "
   ]
  },
  {
   "cell_type": "markdown",
   "id": "52adbe4f",
   "metadata": {},
   "source": [
    "# 1F"
   ]
  },
  {
   "cell_type": "markdown",
   "id": "6c75296f",
   "metadata": {},
   "source": [
    "A smaller deltat resulted in a more accurate orbital period because the next state and current state variables would be updated more frequently which would cause smaller increments in position updates and would allow me to more accurately calculate when it reaches a full orbit. Deltat of 600 resulted in .99-1.01 Earth years and deltat of 800 resulted in 2 Earth years."
   ]
  }
 ],
 "metadata": {
  "kernelspec": {
   "display_name": "sim",
   "language": "python",
   "name": "sim"
  },
  "language_info": {
   "codemirror_mode": {
    "name": "ipython",
    "version": 3
   },
   "file_extension": ".py",
   "mimetype": "text/x-python",
   "name": "python",
   "nbconvert_exporter": "python",
   "pygments_lexer": "ipython3",
   "version": "3.10.8"
  }
 },
 "nbformat": 4,
 "nbformat_minor": 5
}
