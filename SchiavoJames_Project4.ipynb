{
 "cells": [
  {
   "cell_type": "code",
   "execution_count": 1,
   "id": "e9b7587a",
   "metadata": {},
   "outputs": [
    {
     "data": {
      "text/html": [
       "<div id=\"glowscript\" class=\"glowscript\"></div>"
      ],
      "text/plain": [
       "<IPython.core.display.HTML object>"
      ]
     },
     "metadata": {},
     "output_type": "display_data"
    },
    {
     "data": {
      "application/javascript": [
       "if (typeof Jupyter !== \"undefined\") { window.__context = { glowscript_container: $(\"#glowscript\").removeAttr(\"id\")};}else{ element.textContent = ' ';}"
      ],
      "text/plain": [
       "<IPython.core.display.Javascript object>"
      ]
     },
     "metadata": {},
     "output_type": "display_data"
    }
   ],
   "source": [
    "from vpython import *\n",
    "import numpy as np\n",
    "from matplotlib import pyplot as plt\n",
    "import math\n",
    "import random"
   ]
  },
  {
   "cell_type": "markdown",
   "id": "8f8e7fe3",
   "metadata": {},
   "source": [
    "## Random Walker "
   ]
  },
  {
   "cell_type": "code",
   "execution_count": 5,
   "id": "7405bb9c",
   "metadata": {},
   "outputs": [
    {
     "data": {
      "text/html": [
       "<div id=\"glowscript\" class=\"glowscript\"></div>"
      ],
      "text/plain": [
       "<IPython.core.display.HTML object>"
      ]
     },
     "metadata": {},
     "output_type": "display_data"
    },
    {
     "data": {
      "application/javascript": [
       "if (typeof Jupyter !== \"undefined\") { window.__context = { glowscript_container: $(\"#glowscript\").removeAttr(\"id\")};}else{ element.textContent = ' ';}"
      ],
      "text/plain": [
       "<IPython.core.display.Javascript object>"
      ]
     },
     "metadata": {},
     "output_type": "display_data"
    },
    {
     "name": "stdout",
     "output_type": "stream",
     "text": [
      "Average distance walked: 7.33468432963379\n",
      "Average endpoint radius: 7.977854935220721\n",
      "Expected endpoint radius: 10.0\n"
     ]
    }
   ],
   "source": [
    "scene = canvas()\n",
    "#use different seeds\n",
    "np.random.seed(12345)\n",
    "\n",
    "n_simulations = 5 \n",
    "n_steps = 100  \n",
    "\n",
    "total_distance = 0\n",
    "total_radius = 0\n",
    "\n",
    "cyl = cylinder(pos=vector(0,0,0), radius=.5, length=0.5, make_trail=True)\n",
    "\n",
    "for i in range(n_simulations):\n",
    "    for j in range(n_steps):\n",
    "        rate(10)\n",
    "        rand_direction = int(np.random.uniform(low=0,high=4))\n",
    "        #0 = right, 1 = left, 2 = up, 3 = down\n",
    "        if rand_direction == 0:\n",
    "            cyl.pos.x += 1\n",
    "        elif rand_direction == 1:\n",
    "            cyl.pos.x -= 1\n",
    "        elif rand_direction == 2:\n",
    "            cyl.pos.y += 1\n",
    "        else:\n",
    "            cyl.pos.y -= 1   \n",
    "        total_distance += mag(cyl.pos)  \n",
    "    total_radius += mag(cyl.pos)  \n",
    "\n",
    "average_distance = total_distance / (n_simulations * n_steps)\n",
    "average_radius = total_radius / n_simulations\n",
    "\n",
    "expected_radius = np.sqrt(n_steps)\n",
    "\n",
    "print(\"Average distance walked:\", average_distance)\n",
    "print(\"Average endpoint radius:\", average_radius)\n",
    "print(\"Expected endpoint radius:\", expected_radius)\n",
    "\n",
    "    "
   ]
  },
  {
   "cell_type": "markdown",
   "id": "68848160",
   "metadata": {},
   "source": [
    "The average endpoint radius for my random walker is very close to the expected endpoint radius, with the average endpoint radius varying slightly over multiple runs due to its randomness and the expected endpoint radius remaininng constant as N is remained constant."
   ]
  },
  {
   "cell_type": "markdown",
   "id": "583ff62e",
   "metadata": {},
   "source": [
    "## References"
   ]
  },
  {
   "cell_type": "markdown",
   "id": "c9858879",
   "metadata": {},
   "source": [
    "https://en.wikipedia.org/wiki/Random_walk"
   ]
  },
  {
   "cell_type": "markdown",
   "id": "4246fe41",
   "metadata": {},
   "source": [
    "## 1D Cellular Automaton Rule 30"
   ]
  },
  {
   "cell_type": "code",
   "execution_count": 7,
   "id": "5840faa5",
   "metadata": {},
   "outputs": [
    {
     "data": {
      "text/html": [
       "<div id=\"glowscript\" class=\"glowscript\"></div>"
      ],
      "text/plain": [
       "<IPython.core.display.HTML object>"
      ]
     },
     "metadata": {},
     "output_type": "display_data"
    },
    {
     "data": {
      "application/javascript": [
       "if (typeof Jupyter !== \"undefined\") { window.__context = { glowscript_container: $(\"#glowscript\").removeAttr(\"id\")};}else{ element.textContent = ' ';}"
      ],
      "text/plain": [
       "<IPython.core.display.Javascript object>"
      ]
     },
     "metadata": {},
     "output_type": "display_data"
    },
    {
     "name": "stdout",
     "output_type": "stream",
     "text": [
      "STOPPING CRITERION REACHED!!!!\n"
     ]
    }
   ],
   "source": [
    "scene = canvas()\n",
    "# Set up the initial row of cells\n",
    "N = 101\n",
    "cells = np.zeros(N, dtype=int)\n",
    "#One live cell in center\n",
    "cells[N//2] = 1\n",
    "\n",
    "cell_width = 10\n",
    "cell_height = 10\n",
    "cell_spacing = 2\n",
    "cell_objects = []\n",
    "\n",
    "\n",
    "previous_cells = cells.copy()\n",
    "for i in range(N):\n",
    "    cell = box(pos=vector(i*cell_width, 0, 0), size=vector(cell_width,cell_height, 0), color=color.white)\n",
    "    cell_objects.append(cell)\n",
    "scene.camera.follow(cell_objects[0])\n",
    "for frame in range(2000):\n",
    "    rate(10)\n",
    "    new_cells = np.zeros(N, dtype=int)\n",
    "    for i in range(1, N-1):\n",
    "        left = cells[i-1]\n",
    "        middle = cells[i]\n",
    "        right = cells[i+1]\n",
    "        #logic expression for rule 30\n",
    "        new_cells[i] = left ^ (middle | right)\n",
    "    cells = new_cells\n",
    "    for i in range(N):\n",
    "        if cells[i] == 0:\n",
    "            cell_objects[i].color = color.green\n",
    "        else:\n",
    "            cell_objects[i].color = color.red\n",
    "    if np.array_equal(cells, previous_cells):\n",
    "        print(\"STOPPING CRITERION REACHED!!!!\")\n",
    "        break\n",
    "    previous_cells = cells.copy()"
   ]
  },
  {
   "cell_type": "markdown",
   "id": "80ee9fe8",
   "metadata": {},
   "source": [
    "I chose rule 30 because there was an easy logic expression I could derive from the rule using a truth table. Rule 30 also results in some unique and interesting patterns and is a very common rule used for cellular automaton. The stopping criterion I used for rule 30 is if the simulation is no longer updating any cells then end the simulation. I did this by creating copies of the current pattern and checking it against the updated pattern and if they are identical I would stop the simulation. "
   ]
  },
  {
   "cell_type": "markdown",
   "id": "1bca1b4a",
   "metadata": {},
   "source": [
    "## References"
   ]
  },
  {
   "cell_type": "markdown",
   "id": "00e48364",
   "metadata": {},
   "source": [
    "https://mathworld.wolfram.com/ElementaryCellularAutomaton.html"
   ]
  },
  {
   "cell_type": "markdown",
   "id": "d64559f8",
   "metadata": {},
   "source": [
    "## Conway's Game of Life"
   ]
  },
  {
   "cell_type": "code",
   "execution_count": 2,
   "id": "dbb7b431",
   "metadata": {},
   "outputs": [],
   "source": [
    "def initial_grid(board):\n",
    "    # Set still-life block\n",
    "    board[N//2+2][N//4] = 1\n",
    "    board[N//2+2][N//4+1] = 1\n",
    "    board[N//2+1][N//4] = 1\n",
    "    board[N//2+1][N//4+1] = 1\n",
    "    \n",
    "    # Set blinker oscillator\n",
    "    board[N//2-1][N//2-2] = 1\n",
    "    board[N//2-1][N//2-1] = 1\n",
    "    board[N//2-1][N//2] = 1\n",
    "    \n",
    "    # Set glider spaceship\n",
    "    board[N//4][3*N//4] = 1\n",
    "    board[N//4][3*N//4+1] = 1\n",
    "    board[N//4+1][3*N//4-1] = 1\n",
    "    board[N//4+1][3*N//4] = 1\n",
    "    board[N//4+2][3*N//4+1] = 1\n",
    "    return board"
   ]
  },
  {
   "cell_type": "code",
   "execution_count": 4,
   "id": "a1772ef8",
   "metadata": {},
   "outputs": [
    {
     "data": {
      "text/html": [
       "<div id=\"glowscript\" class=\"glowscript\"></div>"
      ],
      "text/plain": [
       "<IPython.core.display.HTML object>"
      ]
     },
     "metadata": {},
     "output_type": "display_data"
    },
    {
     "data": {
      "application/javascript": [
       "if (typeof Jupyter !== \"undefined\") { window.__context = { glowscript_container: $(\"#glowscript\").removeAttr(\"id\")};}else{ element.textContent = ' ';}"
      ],
      "text/plain": [
       "<IPython.core.display.Javascript object>"
      ]
     },
     "metadata": {},
     "output_type": "display_data"
    }
   ],
   "source": [
    "scene = canvas()\n",
    "N = 30\n",
    "cell_width = 10\n",
    "cell_height = 10\n",
    "cells = np.zeros((N,N),dtype=int)\n",
    "cell_objects = []\n",
    "for i in range(N):\n",
    "    row= []\n",
    "    for j in range(N):\n",
    "        square = box(pos=vector(i*cell_width, j*cell_height, 0), size=vector(cell_width, cell_height, 0), color=color.white)\n",
    "        row.append(square)\n",
    "    cell_objects.append(row)\n",
    "cells = initial_grid(cells)\n",
    "t = 0\n",
    "deltat = .1\n",
    "while t < 10:\n",
    "    rate(10)\n",
    "    new_cells = np.zeros((N, N), dtype=int)\n",
    "    for i in range(N):\n",
    "        for j in range(N):\n",
    "            #count live neighbors\n",
    "            live_neighbors = 0\n",
    "            for dir_i in [-1, 0, 1]:\n",
    "                for dir_j in [-1, 0, 1]:\n",
    "                    #skip current cell\n",
    "                    if dir_i == 0 and dir_j == 0:\n",
    "                        continue\n",
    "                    neighbors_i = i + dir_i\n",
    "                    neighbors_j = j + dir_j\n",
    "                    #skip neighbors off grid\n",
    "                    if neighbors_i < 0 or neighbors_i >= N or neighbors_j < 0 or neighbors_j >= N:\n",
    "                        continue\n",
    "                    #count the live neighbors\n",
    "                    if cells[neighbors_i][neighbors_j] == 1:\n",
    "                        live_neighbors += 1\n",
    "            #Conway's game of life rules for updating cells\n",
    "            if cells[i][j] == 1:\n",
    "                if live_neighbors < 2 or live_neighbors > 3:\n",
    "                    new_cells[i][j] = 0\n",
    "                    cell_objects[i][j].color = color.green\n",
    "                else:\n",
    "                    new_cells[i][j] = 1\n",
    "                    cell_objects[i][j].color = color.red\n",
    "            else:\n",
    "                if live_neighbors == 3:\n",
    "                    new_cells[i][j] = 1\n",
    "                    cell_objects[i][j].color = color.red\n",
    "                else:\n",
    "                    new_cells[i][j] = 0\n",
    "                    cell_objects[i][j].color = color.green\n",
    "    cells = new_cells\n",
    "    t = t + deltat\n",
    "\n",
    "    \n"
   ]
  },
  {
   "cell_type": "markdown",
   "id": "dc308c58",
   "metadata": {},
   "source": [
    "## Validation Process"
   ]
  },
  {
   "cell_type": "markdown",
   "id": "907f910f",
   "metadata": {},
   "source": [
    "The validation process I used was to run through different patterns like the still-life patterns which I knew should not move as the simulation is running, the oscillator patterns which I knew would update between two different positions, and the spaceship patterns which I knew would move across the screen and compare their expected behavior to the behavior observed when playing my simulation. "
   ]
  },
  {
   "cell_type": "markdown",
   "id": "2e3b88c5",
   "metadata": {},
   "source": [
    "## References"
   ]
  },
  {
   "cell_type": "markdown",
   "id": "4fcf997d",
   "metadata": {},
   "source": [
    "https://en.wikipedia.org/wiki/Conway%27s_Game_of_Life"
   ]
  },
  {
   "cell_type": "markdown",
   "id": "f1543a91",
   "metadata": {},
   "source": [
    "https://playgameoflife.com/"
   ]
  },
  {
   "cell_type": "markdown",
   "id": "8ad72b47",
   "metadata": {},
   "source": [
    "## Asynchronous Cellular Automaton - Random Independent Scheme"
   ]
  },
  {
   "cell_type": "code",
   "execution_count": 9,
   "id": "08d63af9",
   "metadata": {},
   "outputs": [
    {
     "data": {
      "text/html": [
       "<div id=\"glowscript\" class=\"glowscript\"></div>"
      ],
      "text/plain": [
       "<IPython.core.display.HTML object>"
      ]
     },
     "metadata": {},
     "output_type": "display_data"
    },
    {
     "data": {
      "application/javascript": [
       "if (typeof Jupyter !== \"undefined\") { window.__context = { glowscript_container: $(\"#glowscript\").removeAttr(\"id\")};}else{ element.textContent = ' ';}"
      ],
      "text/plain": [
       "<IPython.core.display.Javascript object>"
      ]
     },
     "metadata": {},
     "output_type": "display_data"
    },
    {
     "name": "stdout",
     "output_type": "stream",
     "text": [
      "Simulation stopped!!!\n"
     ]
    }
   ],
   "source": [
    "scene = canvas()\n",
    "N = 30\n",
    "cell_width = 10\n",
    "cell_height = 10\n",
    "cells = np.zeros((N,N),dtype=int)\n",
    "cell_objects = []\n",
    "for i in range(N):\n",
    "    row= []\n",
    "    for j in range(N):\n",
    "        square = box(pos=vector(i*cell_width, j*cell_height, 0), size=vector(cell_width, cell_height, 0), color=color.white)\n",
    "        row.append(square)\n",
    "    cell_objects.append(row)\n",
    "cells = initial_grid(cells)\n",
    "for i in range(N):\n",
    "    for j in range(N):\n",
    "        if cells[i][j] == 1:\n",
    "            cell_objects[i][j].color = color.red\n",
    "        else:\n",
    "            cell_objects[i][j].color = color.green\n",
    "t = 0\n",
    "deltat = .1\n",
    "while t < 500:\n",
    "    rate(100)\n",
    "    new_cells = np.zeros((N, N), dtype=int)\n",
    "    rand_row = random.randint(0,N-1)\n",
    "    rand_col = random.randint(0,N-1)\n",
    "    live_neighbors = 0\n",
    "    for dir_i in [-1, 0, 1]:\n",
    "        for dir_j in [-1, 0, 1]:\n",
    "            #skip current cell\n",
    "            if dir_i == 0 and dir_j == 0:\n",
    "                continue\n",
    "            neighbors_i = rand_row + dir_i\n",
    "            neighbors_j = rand_col + dir_j\n",
    "            #skip neighbors off grid\n",
    "            if neighbors_i < 0 or neighbors_i >= N or neighbors_j < 0 or neighbors_j >= N:\n",
    "                continue\n",
    "            #count the live neighbors\n",
    "            if cells[neighbors_i][neighbors_j] == 1:\n",
    "                live_neighbors += 1\n",
    "#     print(\"live_neighbors: \" + str(live_neighbors))\n",
    "    #Conway's game of life rules for updating cells\n",
    "    if cells[rand_row][rand_col] == 1:\n",
    "        if live_neighbors < 2 or live_neighbors > 3:\n",
    "            cells[rand_row][rand_col] = 0\n",
    "            cell_objects[rand_row][rand_col].color = color.green\n",
    "        else:\n",
    "            cells[rand_row][rand_col] = 1\n",
    "            cell_objects[rand_row][rand_col].color = color.red\n",
    "    else:\n",
    "        if live_neighbors == 3:\n",
    "            cells[rand_row][rand_col] = 1\n",
    "            cell_objects[rand_row][rand_col].color = color.red\n",
    "        else:\n",
    "            cells[rand_row][rand_col] = 0\n",
    "            cell_objects[rand_row][rand_col].color = color.green\n",
    "    t = t + deltat\n",
    "#     cells = new_cells\n",
    "print(\"Simulation stopped!!!\")"
   ]
  },
  {
   "cell_type": "markdown",
   "id": "d089a3b4",
   "metadata": {},
   "source": [
    "## Results"
   ]
  },
  {
   "cell_type": "markdown",
   "id": "2dcb9c7d",
   "metadata": {},
   "source": [
    "I chose random independent scheme because it was fairly easy to implement and easy to understand what is happening with these asynchrnous updates. I also only chose to update one cell at random at a time so it is easier to follow and interpret the changes made as the simulation goes on. Asynchronous results in different patterns when ran over multiple iterations because we are now selecting what random cell we are updating according to the rules instead of looking at every cell in the grid for updating with the synchronouse model. The still life, however, remained the same for both synchronous and asynchronous."
   ]
  },
  {
   "cell_type": "code",
   "execution_count": null,
   "id": "0c16c007",
   "metadata": {},
   "outputs": [],
   "source": []
  }
 ],
 "metadata": {
  "kernelspec": {
   "display_name": "sim",
   "language": "python",
   "name": "sim"
  },
  "language_info": {
   "codemirror_mode": {
    "name": "ipython",
    "version": 3
   },
   "file_extension": ".py",
   "mimetype": "text/x-python",
   "name": "python",
   "nbconvert_exporter": "python",
   "pygments_lexer": "ipython3",
   "version": "3.10.8"
  }
 },
 "nbformat": 4,
 "nbformat_minor": 5
}
