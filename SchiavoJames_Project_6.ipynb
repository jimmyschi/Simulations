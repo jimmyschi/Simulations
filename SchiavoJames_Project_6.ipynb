{
 "cells": [
  {
   "cell_type": "code",
   "execution_count": 2,
   "id": "be178331",
   "metadata": {},
   "outputs": [
    {
     "data": {
      "text/html": [
       "<div id=\"glowscript\" class=\"glowscript\"></div>"
      ],
      "text/plain": [
       "<IPython.core.display.HTML object>"
      ]
     },
     "metadata": {},
     "output_type": "display_data"
    },
    {
     "data": {
      "application/javascript": [
       "if (typeof Jupyter !== \"undefined\") { window.__context = { glowscript_container: $(\"#glowscript\").removeAttr(\"id\")};}else{ element.textContent = ' ';}"
      ],
      "text/plain": [
       "<IPython.core.display.Javascript object>"
      ]
     },
     "metadata": {},
     "output_type": "display_data"
    }
   ],
   "source": [
    "from vpython import *\n",
    "import numpy as np\n",
    "import math\n",
    "from matplotlib import pyplot as plt"
   ]
  },
  {
   "cell_type": "markdown",
   "id": "74f0bdf1",
   "metadata": {},
   "source": [
    "## RC Circuit"
   ]
  },
  {
   "cell_type": "code",
   "execution_count": 3,
   "id": "25194633",
   "metadata": {
    "scrolled": true
   },
   "outputs": [
    {
     "data": {
      "text/html": [
       "<div id=\"glowscript\" class=\"glowscript\"></div>"
      ],
      "text/plain": [
       "<IPython.core.display.HTML object>"
      ]
     },
     "metadata": {},
     "output_type": "display_data"
    },
    {
     "data": {
      "application/javascript": [
       "if (typeof Jupyter !== \"undefined\") { window.__context = { glowscript_container: $(\"#glowscript\").removeAttr(\"id\")};}else{ element.textContent = ' ';}"
      ],
      "text/plain": [
       "<IPython.core.display.Javascript object>"
      ]
     },
     "metadata": {},
     "output_type": "display_data"
    },
    {
     "name": "stdout",
     "output_type": "stream",
     "text": [
      "deltat: 0.0001\n",
      "x: [5. 5. 0.]\n",
      "A: [[-1.e-05  1.e-05  1.e+00]\n",
      " [ 1.e-05 -2.e-05  0.e+00]\n",
      " [ 1.e+00  0.e+00  0.e+00]]\n",
      "b: [0 0 5]\n"
     ]
    },
    {
     "data": {
      "application/javascript": [
       "if (typeof Jupyter !== \"undefined\") {require.undef(\"nbextensions/vpython_libraries/glow.min\");}else{element.textContent = ' ';}"
      ],
      "text/plain": [
       "<IPython.core.display.Javascript object>"
      ]
     },
     "metadata": {},
     "output_type": "display_data"
    },
    {
     "data": {
      "application/javascript": [
       "if (typeof Jupyter !== \"undefined\") {require.undef(\"nbextensions/vpython_libraries/glowcomm\");}else{element.textContent = ' ';}"
      ],
      "text/plain": [
       "<IPython.core.display.Javascript object>"
      ]
     },
     "metadata": {},
     "output_type": "display_data"
    },
    {
     "data": {
      "application/javascript": [
       "if (typeof Jupyter !== \"undefined\") {require.undef(\"nbextensions/vpython_libraries/jquery-ui.custom.min\");}else{element.textContent = ' ';}"
      ],
      "text/plain": [
       "<IPython.core.display.Javascript object>"
      ]
     },
     "metadata": {},
     "output_type": "display_data"
    },
    {
     "data": {
      "application/javascript": [
       "if (typeof Jupyter !== \"undefined\") {require([\"nbextensions/vpython_libraries/glow.min\"], function(){console.log(\"GLOW LOADED\");});}else{element.textContent = ' ';}"
      ],
      "text/plain": [
       "<IPython.core.display.Javascript object>"
      ]
     },
     "metadata": {},
     "output_type": "display_data"
    },
    {
     "data": {
      "application/javascript": [
       "if (typeof Jupyter !== \"undefined\") {require([\"nbextensions/vpython_libraries/glowcomm\"], function(){console.log(\"GLOWCOMM LOADED\");});}else{element.textContent = ' ';}"
      ],
      "text/plain": [
       "<IPython.core.display.Javascript object>"
      ]
     },
     "metadata": {},
     "output_type": "display_data"
    },
    {
     "data": {
      "application/javascript": [
       "if (typeof Jupyter !== \"undefined\") {require([\"nbextensions/vpython_libraries/jquery-ui.custom.min\"], function(){console.log(\"JQUERY LOADED\");});}else{element.textContent = ' ';}"
      ],
      "text/plain": [
       "<IPython.core.display.Javascript object>"
      ]
     },
     "metadata": {},
     "output_type": "display_data"
    }
   ],
   "source": [
    "scene = canvas()\n",
    "t = 0\n",
    "R = 100e3\n",
    "C = 1e-9\n",
    "deltat = R*C #Time Constant = R*C\n",
    "print(\"deltat: \" + str(deltat))\n",
    "w = 1000\n",
    "V_i = 5\n",
    "I_vi = 0\n",
    "I_eq = 0\n",
    "V_a = V_i\n",
    "V_b = V_i - R*I_vi\n",
    "x = [V_a,V_b,I_vi]\n",
    "A = [[-(1/R),(1/R),1],[(1/R),-(1/R) - (C/deltat),0],[1,0,0]]\n",
    "b = [0,I_eq,V_i]\n",
    "x = np.array(x)\n",
    "A = np.array(A)\n",
    "b = np.array(b)\n",
    "print(\"x: \" + str(x))\n",
    "print(\"A: \" + str(A))\n",
    "print(\"b: \" + str(b))\n",
    "graph_Vin = graph(title='Input Voltage')\n",
    "graph_input = gcurve(graph=graph_Vin,color=color.red)\n",
    "# graph_Vout = graph(title='Output Voltage')\n",
    "graph_output = gcurve(graph=graph_Vin,color=color.blue)\n",
    "while t < 10e-3:\n",
    "    rate(100)\n",
    "    V_i = 5*math.sin(w*t)\n",
    "    I_eq = -(C/deltat)*V_b\n",
    "    b = [0,I_eq,V_i]\n",
    "    x = np.linalg.solve(A,b)\n",
    "    V_a = x[0]\n",
    "    #V_b = V_o\n",
    "    V_b = x[1]\n",
    "    I_vi = x[2]\n",
    "    graph_input.plot(t,V_i)\n",
    "    graph_output.plot(t,V_b)\n",
    "    t = t + deltat  "
   ]
  },
  {
   "cell_type": "markdown",
   "id": "6ba1d2bd",
   "metadata": {},
   "source": [
    "I chose the resistance and capacitance that was used in the lecture notes because they seemed very reasonable for an RC circuit and were very easy to analyze the RC circuit with. I used the time constant R*C for a time step and a simulation length of 3e-3 because that would represent at least one full sinusoidal cycle. I also used an amplitude voltage of 5V and a frequency of 1000Hz to confirm my simulation with an ltspice simulation I created. "
   ]
  },
  {
   "cell_type": "markdown",
   "id": "f0657c75",
   "metadata": {},
   "source": [
    "## References"
   ]
  },
  {
   "cell_type": "markdown",
   "id": "b70c460c",
   "metadata": {},
   "source": [
    "https://www.electronics-tutorials.ws/rc/rc_1.html"
   ]
  },
  {
   "cell_type": "markdown",
   "id": "af3147a9",
   "metadata": {},
   "source": [
    "## Bode Plot "
   ]
  },
  {
   "cell_type": "code",
   "execution_count": 39,
   "id": "704c776c",
   "metadata": {},
   "outputs": [],
   "source": [
    "def freq(frequency):\n",
    "    t = 0\n",
    "    R = 100e3\n",
    "    C = 1e-9\n",
    "    deltat = R*C\n",
    "    w = 1000\n",
    "    V_i = 5\n",
    "    I_vi = 0\n",
    "    I_eq = 0\n",
    "    V_a = V_i\n",
    "    V_b = V_i - R*I_vi\n",
    "    x = [V_a,V_b,I_vi]\n",
    "    A = [[-(1/R),(1/R),1],[(1/R),-(1/R) - (C/deltat),0],[1,0,0]]\n",
    "    b = [0,I_eq,V_i]\n",
    "    x = np.array(x)\n",
    "    A = np.array(A)\n",
    "    b = np.array(b)\n",
    "    max_vin = 0\n",
    "    max_vout = 0\n",
    "    min_vin = 999999\n",
    "    min_vout = 999999\n",
    "    while t < 10e-3:\n",
    "        rate(100)\n",
    "        V_i = 5*math.sin(frequency*t)\n",
    "        I_eq = -(C/deltat)*V_b\n",
    "        b = [0,I_eq,V_i]\n",
    "        x = np.linalg.solve(A,b)\n",
    "        V_a = x[0]\n",
    "        #V_b = V_o\n",
    "        V_b = x[1]\n",
    "        I_vi = x[2]\n",
    "        if V_i > max_vin:\n",
    "            max_vin = V_i\n",
    "        if V_b > max_vout:\n",
    "            max_vout = V_b\n",
    "        if V_i < min_vin:\n",
    "            min_vin = V_i\n",
    "        if V_b < min_vout:\n",
    "            min_vout = V_b\n",
    "        t = t + deltat\n",
    "    gain = 20*math.log10((max_vout - min_vout)/(max_vin - min_vin))\n",
    "    return gain"
   ]
  },
  {
   "cell_type": "code",
   "execution_count": 40,
   "id": "4065b133",
   "metadata": {},
   "outputs": [
    {
     "data": {
      "text/html": [
       "<div id=\"glowscript\" class=\"glowscript\"></div>"
      ],
      "text/plain": [
       "<IPython.core.display.HTML object>"
      ]
     },
     "metadata": {},
     "output_type": "display_data"
    },
    {
     "data": {
      "application/javascript": [
       "if (typeof Jupyter !== \"undefined\") { window.__context = { glowscript_container: $(\"#glowscript\").removeAttr(\"id\")};}else{ element.textContent = ' ';}"
      ],
      "text/plain": [
       "<IPython.core.display.Javascript object>"
      ]
     },
     "metadata": {},
     "output_type": "display_data"
    },
    {
     "name": "stdout",
     "output_type": "stream",
     "text": [
      "gain: 33.958288908847116\n",
      "gain: 13.836872363878319\n",
      "gain: -0.6586773780787497\n",
      "gain: -0.08598712976166491\n",
      "gain: -3.208388825449572\n",
      "gain: -7.471911237736004\n",
      "gain: -1.9072581616608506\n",
      "gain: -3.0980357156701577\n",
      "gain: -7.566307262215883\n"
     ]
    },
    {
     "data": {
      "text/plain": [
       "[<matplotlib.lines.Line2D at 0x110e0bf70>]"
      ]
     },
     "execution_count": 40,
     "metadata": {},
     "output_type": "execute_result"
    },
    {
     "data": {
      "image/png": "[encoded data removed]",
      "text/plain": [
       "<Figure size 640x480 with 1 Axes>"
      ]
     },
     "metadata": {},
     "output_type": "display_data"
    }
   ],
   "source": [
    "scene=canvas()\n",
    "cycles = 9\n",
    "count = 0\n",
    "frequencies = [1,10,100,1000,10e3,100e3,1e6,10e6,100e6]\n",
    "gains = []\n",
    "plt.figure()\n",
    "while count < cycles:\n",
    "    gain = freq(frequencies[count])\n",
    "    gains.append(gain)\n",
    "    print(\"gain: \" + str(gain))\n",
    "    count += 1\n",
    "# g = np.logspace(start=min(gains),stop=max(gains),num=len(gains))\n",
    "g = np.array(gains)\n",
    "freq = np.array(frequencies)\n",
    "plt.semilogx(freq,g)"
   ]
  },
  {
   "cell_type": "markdown",
   "id": "c72256c2",
   "metadata": {},
   "source": [
    "## Half Wave Rectifier"
   ]
  },
  {
   "cell_type": "code",
   "execution_count": 30,
   "id": "c8bf1281",
   "metadata": {},
   "outputs": [
    {
     "data": {
      "text/html": [
       "<div id=\"glowscript\" class=\"glowscript\"></div>"
      ],
      "text/plain": [
       "<IPython.core.display.HTML object>"
      ]
     },
     "metadata": {},
     "output_type": "display_data"
    },
    {
     "data": {
      "application/javascript": [
       "if (typeof Jupyter !== \"undefined\") { window.__context = { glowscript_container: $(\"#glowscript\").removeAttr(\"id\")};}else{ element.textContent = ' ';}"
      ],
      "text/plain": [
       "<IPython.core.display.Javascript object>"
      ]
     },
     "metadata": {},
     "output_type": "display_data"
    },
    {
     "name": "stdout",
     "output_type": "stream",
     "text": [
      "deltat: 0.0001\n"
     ]
    }
   ],
   "source": [
    "scene=canvas()\n",
    "t = 0\n",
    "R = 100e3\n",
    "C = 1e-9\n",
    "deltat = R*C #Time Constant = R*C\n",
    "original_dt = deltat\n",
    "print(\"deltat: \" + str(deltat))\n",
    "w = 1000\n",
    "n = 1\n",
    "V_t = 26e-3\n",
    "V_i = 5 #what is V_i?\n",
    "I_vi = 0\n",
    "V_a = V_i\n",
    "V_b = V_i - R*I_vi\n",
    "V_o = 0\n",
    "V_d = .7\n",
    "I_s = 1e-12\n",
    "V_d_next = 0\n",
    "G_deq = (I_s/(n*V_t))*math.exp((V_d/(n*V_t)))\n",
    "I_d = I_s*(math.exp((V_d/n*V_t))- 1)\n",
    "I_ceq = -(C/deltat)*V_b\n",
    "I_deq = I_d - G_deq*V_d\n",
    "x = [V_a,V_b,I_vi]\n",
    "A = [[-G_deq,G_deq,1],[G_deq,-G_deq-(C/deltat)-(1/R),0],[1,0,0]]\n",
    "b = [I_deq,I_ceq - I_deq,V_i]\n",
    "x = np.array(x)\n",
    "A = np.array(A)\n",
    "b = np.array(b)\n",
    "converge = False\n",
    "num_cycles = 0\n",
    "graph_Vin = graph(title='Voltage')\n",
    "graph_input = gcurve(graph=graph_Vin,color=color.red)\n",
    "graph_output = gcurve(graph=graph_Vin,color=color.blue)\n",
    "while t < 10e-3:\n",
    "    rate(100)\n",
    "    #update input\n",
    "    V_i = 5*math.sin(w*t)\n",
    "    #update values for diode linear component model\n",
    "    I_d = I_s*(math.exp((V_d/n*V_t))- 1)\n",
    "    G_deq = (I_s/(n*V_t))*math.exp((V_d/(n*V_t)))\n",
    "    I_deq = I_d - G_deq*V_d\n",
    "    b = [I_deq,I_ceq - I_deq,V_i]\n",
    "    x = np.linalg.solve(A,b)\n",
    "    V_a = x[0]\n",
    "    V_b = x[1]\n",
    "    I_vi = x[2]\n",
    "    #calculate next state diode voltage\n",
    "    V_d_next = V_a - V_b\n",
    "    if V_a > V_d:\n",
    "        V_b = x[1]\n",
    "    else:\n",
    "        V_b = 0\n",
    "    if abs(V_d - V_d_next) > .001:\n",
    "        #try again with new V_d\n",
    "        V_d = V_d_next\n",
    "        converge = False\n",
    "    else:\n",
    "        converge = True\n",
    "        convergence_dt = deltat\n",
    "        deltat = original_dt\n",
    "    if converge == False and num_cycles > 10:\n",
    "        #decrease time step\n",
    "        deltat = deltat/2\n",
    "        #error out if time step gets too small?\n",
    "    if converge == True or V_b == 0:\n",
    "        #update capacitor component model\n",
    "        I_ceq = -(C/convergence_dt)*V_b\n",
    "        graph_input.plot(t,V_i)\n",
    "        graph_output.plot(t,V_b)\n",
    "        num_cycles += 1 #?????\n",
    "        #increment time\n",
    "        t = t + convergence_dt\n",
    "        \n",
    "    "
   ]
  },
  {
   "cell_type": "markdown",
   "id": "b190855b",
   "metadata": {},
   "source": [
    "I used the same resistance, capacitance, and time step from the RC circuit simulation because I already knew how the RC circuit would perform and they were all reasonable values. I chose a longer simulation time so you can really see how the half-wave rectifier should perform and I chose all reasonable diode values from my resources and my knowledge of diodes and a half-wave rectifier. "
   ]
  },
  {
   "cell_type": "markdown",
   "id": "278af528",
   "metadata": {},
   "source": [
    "Changing the resistance doesn't affect the output of the circuit however it does take longer to converge. Changing the capacitance or the time step resulted in a less smooth sinusoidal output for my circuit. "
   ]
  },
  {
   "cell_type": "markdown",
   "id": "668d9577",
   "metadata": {},
   "source": [
    "A time step of R*C resulted in convergence,whereas, a time step of R*C*100 did not. This proves that the smaller time steps are able to converge which makes sense since we are not jumping over important points in the graph, whereas, a larger time step may be jumping over certain points in the graph resulting in it never converging. "
   ]
  },
  {
   "cell_type": "markdown",
   "id": "d4c1305e",
   "metadata": {},
   "source": [
    "## References"
   ]
  },
  {
   "cell_type": "markdown",
   "id": "ed555cec",
   "metadata": {},
   "source": [
    "https://lastminuteengineers.com/the-half-wave-rectifier/"
   ]
  }
 ],
 "metadata": {
  "kernelspec": {
   "display_name": "sim",
   "language": "python",
   "name": "sim"
  },
  "language_info": {
   "codemirror_mode": {
    "name": "ipython",
    "version": 3
   },
   "file_extension": ".py",
   "mimetype": "text/x-python",
   "name": "python",
   "nbconvert_exporter": "python",
   "pygments_lexer": "ipython3",
   "version": "3.10.8"
  }
 },
 "nbformat": 4,
 "nbformat_minor": 5
}
